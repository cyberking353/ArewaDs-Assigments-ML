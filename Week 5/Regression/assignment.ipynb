{
 "cells": [
  {
   "cell_type": "markdown",
   "metadata": {},
   "source": [
    "Take a look at the Linnerud dataset in Scikit-learn. This dataset has multiple targets: 'It consists of three exercise (data) and three physiological (target) variables collected from twenty middle-aged men in a fitness club'.\n",
    "\n",
    "In your own words, describe how to create a Regression model that would plot the relationship between the waistline and how many situps are accomplished. Do the same for the other datapoints in this dataset."
   ]
  },
  {
   "cell_type": "markdown",
   "metadata": {},
   "source": [
    "The Linnerud dataset contains exercise variables (chins, situps, jumps) as inputs and physiological measurements (weight, waistline, pulse) as targets. To explore the relationship between situps and waistline, we can treat waistline as the independent variable (X) and situps as the dependent variable (y). Using a regression model such as LinearRegression from scikit-learn, we fit a line that best describes how changes in waistline are associated with the number of situps accomplished. After fitting the model, we can plot waistline values on the x-axis and situps on the y-axis, adding the regression line to visualize the relationship. The same process can be repeated for the other variable pairs in the dataset—for example, plotting weight against chins, or pulse against jumps—allowing us to see whether increases in physiological measurements like weight or waistline are correlated with higher or lower exercise performance. This approach helps uncover trends in the data and provides a simple predictive model of exercise ability based on physical characteristics.\n",
    "\n",
    "This way:\n",
    "\n",
    "- It’s a full descriptive paragraph (not just bullets).\n",
    "\n",
    "- It explains the regression process in plain English.\n",
    "- It mentions the specific dataset context.\n",
    "- It generalizes to the other variables (as the question asks)."
   ]
  },
  {
   "cell_type": "markdown",
   "metadata": {},
   "source": []
  }
 ],
 "metadata": {
  "language_info": {
   "name": "python"
  }
 },
 "nbformat": 4,
 "nbformat_minor": 2
}
