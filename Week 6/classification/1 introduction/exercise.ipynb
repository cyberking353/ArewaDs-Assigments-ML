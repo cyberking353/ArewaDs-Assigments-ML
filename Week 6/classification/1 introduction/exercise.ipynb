{
 "cells": [
  {
   "cell_type": "markdown",
   "id": "a570fcfa",
   "metadata": {},
   "source": [
    "# Introduction to classification\n",
    "\n",
    "In these four lessons, you will explore a fundamental focus of classic machine learning - _classification_. We will walk through using various classification algorithms with a dataset about all the brilliant cuisines of Asia and India. Hope you're hungry!\n",
    "\n",
    "![just a pinch!](images/pinch.png)\n",
    "\n",
    "> Celebrate pan-Asian cuisines in these lessons! Image by [Jen Looper](https://twitter.com/jenlooper)\n",
    "\n",
    "Classification is a form of [supervised learning](https://wikipedia.org/wiki/Supervised_learning) that bears a lot in common with regression techniques. If machine learning is all about predicting values or names to things by using datasets, then classification generally falls into two groups: _binary classification_ and _multiclass classification_.\n",
    "\n",
    "[![Introduction to classification](https://img.youtube.com/vi/eg8DJYwdMyg/0.jpg)](https://youtu.be/eg8DJYwdMyg \"Introduction to classification\")\n",
    "\n",
    "> 🎥 Click the image above for a video: MIT's John Guttag introduces classification\n",
    "\n",
    "Remember:\n",
    "\n",
    "- **Linear regression** helped you predict relationships between variables and make accurate predictions on where a new datapoint would fall in relationship to that line. So, you could predict _what price a pumpkin would be in September vs. December_, for example.\n",
    "- **Logistic regression** helped you discover \"binary categories\": at this price point, _is this pumpkin orange or not-orange_?\n",
    "\n",
    "Classification uses various algorithms to determine other ways of determining a data point's label or class. Let's work with this cuisine data to see whether, by observing a group of ingredients, we can determine its cuisine of origin.\n",
    "\n",
    "### Introduction\n",
    "\n",
    "Classification is one of the fundamental activities of the machine learning researcher and data scientist. From basic classification of a binary value (\"is this email spam or not?\"), to complex image classification and segmentation using computer vision, it's always useful to be able to sort data into classes and ask questions of it.\n",
    "\n",
    "To state the process in a more scientific way, your classification method creates a predictive model that enables you to map the relationship between input variables to output variables.\n",
    "\n",
    "![binary vs. multiclass classification](images/binary-multiclass.png)\n",
    "\n",
    "> Binary vs. multiclass problems for classification algorithms to handle. Infographic by [Jen Looper](https://twitter.com/jenlooper)\n",
    "\n",
    "Before starting the process of cleaning our data, visualizing it, and prepping it for our ML tasks, let's learn a bit about the various ways machine learning can be leveraged to classify data.\n",
    "\n",
    "Derived from [statistics](https://wikipedia.org/wiki/Statistical_classification), classification using classic machine learning uses features, such as `smoker`, `weight`, and `age` to determine _likelihood of developing X disease_. As a supervised learning technique similar to the regression exercises you performed earlier, your data is labeled and the ML algorithms use those labels to classify and predict classes (or 'features') of a dataset and assign them to a group or outcome.\n",
    "\n",
    "✅ Take a moment to imagine a dataset about cuisines. What would a multiclass model be able to answer? What would a binary model be able to answer? What if you wanted to determine whether a given cuisine was likely to use fenugreek? What if you wanted to see if, given a present of a grocery bag full of star anise, artichokes, cauliflower, and horseradish, you could create a typical Indian dish?\n",
    "\n",
    "[![Crazy mystery baskets](https://img.youtube.com/vi/GuTeDbaNoEU/0.jpg)](https://youtu.be/GuTeDbaNoEU \"Crazy mystery baskets\")\n",
    "\n",
    "> 🎥 Click the image above for a video.The whole premise of the show 'Chopped' is the 'mystery basket' where chefs have to make some dish out of a random choice of ingredients. Surely a ML model would have helped!\n",
    "\n",
    "## Hello 'classifier'\n",
    "\n",
    "The question we want to ask of this cuisine dataset is actually a **multiclass question**, as we have several potential national cuisines to work with. Given a batch of ingredients, which of these many classes will the data fit?\n",
    "\n",
    "Scikit-learn offers several different algorithms to use to classify data, depending on the kind of problem you want to solve. In the next two lessons, you'll learn about several of these algorithms.\n",
    "\n",
    "## Exercise - clean and balance your data\n",
    "\n",
    "The first task at hand, before starting this project, is to clean and **balance** your data to get better results. Start with the blank _notebook.ipynb_ file in the root of this folder.\n",
    "\n",
    "The first thing to install is [imblearn](https://imbalanced-learn.org/stable/). This is a Scikit-learn package that will allow you to better balance the data (you will learn more about this task in a minute).\n",
    "\n",
    "1. To install imblearn, run pip install, like so:"
   ]
  },
  {
   "cell_type": "code",
   "execution_count": 1,
   "id": "b276edf9",
   "metadata": {},
   "outputs": [
    {
     "name": "stdout",
     "output_type": "stream",
     "text": [
      "Requirement already satisfied: imbalanced-learn in c:\\users\\aminu\\miniconda3\\envs\\datascience\\lib\\site-packages (0.13.0)\n",
      "Requirement already satisfied: numpy<3,>=1.24.3 in c:\\users\\aminu\\miniconda3\\envs\\datascience\\lib\\site-packages (from imbalanced-learn) (2.3.1)\n",
      "Requirement already satisfied: scipy<2,>=1.10.1 in c:\\users\\aminu\\miniconda3\\envs\\datascience\\lib\\site-packages (from imbalanced-learn) (1.15.3)\n",
      "Requirement already satisfied: scikit-learn<2,>=1.3.2 in c:\\users\\aminu\\miniconda3\\envs\\datascience\\lib\\site-packages (from imbalanced-learn) (1.6.1)\n",
      "Requirement already satisfied: sklearn-compat<1,>=0.1 in c:\\users\\aminu\\miniconda3\\envs\\datascience\\lib\\site-packages (from imbalanced-learn) (0.1.3)\n",
      "Requirement already satisfied: joblib<2,>=1.1.1 in c:\\users\\aminu\\miniconda3\\envs\\datascience\\lib\\site-packages (from imbalanced-learn) (1.4.2)\n",
      "Requirement already satisfied: threadpoolctl<4,>=2.0.0 in c:\\users\\aminu\\miniconda3\\envs\\datascience\\lib\\site-packages (from imbalanced-learn) (3.5.0)\n",
      "Note: you may need to restart the kernel to use updated packages.\n"
     ]
    }
   ],
   "source": [
    "%pip install imbalanced-learn"
   ]
  },
  {
   "cell_type": "markdown",
   "id": "ded70b34",
   "metadata": {},
   "source": [
    "2. Import the packages you need to import your data and visualize it, also import SMOTE from imblearn."
   ]
  },
  {
   "cell_type": "code",
   "execution_count": 2,
   "id": "739832eb",
   "metadata": {},
   "outputs": [],
   "source": [
    "import pandas as pd\n",
    "import matplotlib.pyplot as plt\n",
    "import matplotlib as mpl\n",
    "import numpy as np\n",
    "from imblearn.over_sampling import SMOTE"
   ]
  },
  {
   "cell_type": "markdown",
   "id": "dd730519",
   "metadata": {},
   "source": [
    "Now you are set up to read import the data next.\n",
    "\n",
    "3. The next task will be to import the data:"
   ]
  },
  {
   "cell_type": "code",
   "execution_count": 3,
   "id": "30787982",
   "metadata": {},
   "outputs": [],
   "source": [
    "df  = pd.read_csv('../../data/cuisines.csv')"
   ]
  },
  {
   "cell_type": "markdown",
   "id": "50ed4fd0",
   "metadata": {},
   "source": [
    "Using read_csv() will read the content of the csv file cusines.csv and place it in the variable df.\n",
    "\n",
    "4. Check the data's shape:"
   ]
  },
  {
   "cell_type": "code",
   "execution_count": 4,
   "id": "a9f1c25d",
   "metadata": {},
   "outputs": [
    {
     "data": {
      "text/plain": [
       "(2448, 385)"
      ]
     },
     "execution_count": 4,
     "metadata": {},
     "output_type": "execute_result"
    }
   ],
   "source": [
    "df.shape"
   ]
  },
  {
   "cell_type": "markdown",
   "id": "47bb6005",
   "metadata": {},
   "source": [
    "The first five rows look like this:"
   ]
  },
  {
   "cell_type": "code",
   "execution_count": 5,
   "id": "be82b3ca",
   "metadata": {},
   "outputs": [
    {
     "data": {
      "text/html": [
       "<div>\n",
       "<style scoped>\n",
       "    .dataframe tbody tr th:only-of-type {\n",
       "        vertical-align: middle;\n",
       "    }\n",
       "\n",
       "    .dataframe tbody tr th {\n",
       "        vertical-align: top;\n",
       "    }\n",
       "\n",
       "    .dataframe thead th {\n",
       "        text-align: right;\n",
       "    }\n",
       "</style>\n",
       "<table border=\"1\" class=\"dataframe\">\n",
       "  <thead>\n",
       "    <tr style=\"text-align: right;\">\n",
       "      <th></th>\n",
       "      <th>Unnamed: 0</th>\n",
       "      <th>cuisine</th>\n",
       "      <th>almond</th>\n",
       "      <th>angelica</th>\n",
       "      <th>anise</th>\n",
       "      <th>anise_seed</th>\n",
       "      <th>apple</th>\n",
       "      <th>apple_brandy</th>\n",
       "      <th>apricot</th>\n",
       "      <th>armagnac</th>\n",
       "      <th>...</th>\n",
       "      <th>whiskey</th>\n",
       "      <th>white_bread</th>\n",
       "      <th>white_wine</th>\n",
       "      <th>whole_grain_wheat_flour</th>\n",
       "      <th>wine</th>\n",
       "      <th>wood</th>\n",
       "      <th>yam</th>\n",
       "      <th>yeast</th>\n",
       "      <th>yogurt</th>\n",
       "      <th>zucchini</th>\n",
       "    </tr>\n",
       "  </thead>\n",
       "  <tbody>\n",
       "    <tr>\n",
       "      <th>0</th>\n",
       "      <td>65</td>\n",
       "      <td>indian</td>\n",
       "      <td>0</td>\n",
       "      <td>0</td>\n",
       "      <td>0</td>\n",
       "      <td>0</td>\n",
       "      <td>0</td>\n",
       "      <td>0</td>\n",
       "      <td>0</td>\n",
       "      <td>0</td>\n",
       "      <td>...</td>\n",
       "      <td>0</td>\n",
       "      <td>0</td>\n",
       "      <td>0</td>\n",
       "      <td>0</td>\n",
       "      <td>0</td>\n",
       "      <td>0</td>\n",
       "      <td>0</td>\n",
       "      <td>0</td>\n",
       "      <td>0</td>\n",
       "      <td>0</td>\n",
       "    </tr>\n",
       "    <tr>\n",
       "      <th>1</th>\n",
       "      <td>66</td>\n",
       "      <td>indian</td>\n",
       "      <td>1</td>\n",
       "      <td>0</td>\n",
       "      <td>0</td>\n",
       "      <td>0</td>\n",
       "      <td>0</td>\n",
       "      <td>0</td>\n",
       "      <td>0</td>\n",
       "      <td>0</td>\n",
       "      <td>...</td>\n",
       "      <td>0</td>\n",
       "      <td>0</td>\n",
       "      <td>0</td>\n",
       "      <td>0</td>\n",
       "      <td>0</td>\n",
       "      <td>0</td>\n",
       "      <td>0</td>\n",
       "      <td>0</td>\n",
       "      <td>0</td>\n",
       "      <td>0</td>\n",
       "    </tr>\n",
       "    <tr>\n",
       "      <th>2</th>\n",
       "      <td>67</td>\n",
       "      <td>indian</td>\n",
       "      <td>0</td>\n",
       "      <td>0</td>\n",
       "      <td>0</td>\n",
       "      <td>0</td>\n",
       "      <td>0</td>\n",
       "      <td>0</td>\n",
       "      <td>0</td>\n",
       "      <td>0</td>\n",
       "      <td>...</td>\n",
       "      <td>0</td>\n",
       "      <td>0</td>\n",
       "      <td>0</td>\n",
       "      <td>0</td>\n",
       "      <td>0</td>\n",
       "      <td>0</td>\n",
       "      <td>0</td>\n",
       "      <td>0</td>\n",
       "      <td>0</td>\n",
       "      <td>0</td>\n",
       "    </tr>\n",
       "    <tr>\n",
       "      <th>3</th>\n",
       "      <td>68</td>\n",
       "      <td>indian</td>\n",
       "      <td>0</td>\n",
       "      <td>0</td>\n",
       "      <td>0</td>\n",
       "      <td>0</td>\n",
       "      <td>0</td>\n",
       "      <td>0</td>\n",
       "      <td>0</td>\n",
       "      <td>0</td>\n",
       "      <td>...</td>\n",
       "      <td>0</td>\n",
       "      <td>0</td>\n",
       "      <td>0</td>\n",
       "      <td>0</td>\n",
       "      <td>0</td>\n",
       "      <td>0</td>\n",
       "      <td>0</td>\n",
       "      <td>0</td>\n",
       "      <td>0</td>\n",
       "      <td>0</td>\n",
       "    </tr>\n",
       "    <tr>\n",
       "      <th>4</th>\n",
       "      <td>69</td>\n",
       "      <td>indian</td>\n",
       "      <td>0</td>\n",
       "      <td>0</td>\n",
       "      <td>0</td>\n",
       "      <td>0</td>\n",
       "      <td>0</td>\n",
       "      <td>0</td>\n",
       "      <td>0</td>\n",
       "      <td>0</td>\n",
       "      <td>...</td>\n",
       "      <td>0</td>\n",
       "      <td>0</td>\n",
       "      <td>0</td>\n",
       "      <td>0</td>\n",
       "      <td>0</td>\n",
       "      <td>0</td>\n",
       "      <td>0</td>\n",
       "      <td>0</td>\n",
       "      <td>1</td>\n",
       "      <td>0</td>\n",
       "    </tr>\n",
       "  </tbody>\n",
       "</table>\n",
       "<p>5 rows × 385 columns</p>\n",
       "</div>"
      ],
      "text/plain": [
       "   Unnamed: 0 cuisine  almond  angelica  anise  anise_seed  apple  \\\n",
       "0          65  indian       0         0      0           0      0   \n",
       "1          66  indian       1         0      0           0      0   \n",
       "2          67  indian       0         0      0           0      0   \n",
       "3          68  indian       0         0      0           0      0   \n",
       "4          69  indian       0         0      0           0      0   \n",
       "\n",
       "   apple_brandy  apricot  armagnac  ...  whiskey  white_bread  white_wine  \\\n",
       "0             0        0         0  ...        0            0           0   \n",
       "1             0        0         0  ...        0            0           0   \n",
       "2             0        0         0  ...        0            0           0   \n",
       "3             0        0         0  ...        0            0           0   \n",
       "4             0        0         0  ...        0            0           0   \n",
       "\n",
       "   whole_grain_wheat_flour  wine  wood  yam  yeast  yogurt  zucchini  \n",
       "0                        0     0     0    0      0       0         0  \n",
       "1                        0     0     0    0      0       0         0  \n",
       "2                        0     0     0    0      0       0         0  \n",
       "3                        0     0     0    0      0       0         0  \n",
       "4                        0     0     0    0      0       1         0  \n",
       "\n",
       "[5 rows x 385 columns]"
      ]
     },
     "execution_count": 5,
     "metadata": {},
     "output_type": "execute_result"
    }
   ],
   "source": [
    "df.head()"
   ]
  },
  {
   "cell_type": "code",
   "execution_count": 6,
   "id": "ffb4658b",
   "metadata": {},
   "outputs": [
    {
     "name": "stdout",
     "output_type": "stream",
     "text": [
      "<class 'pandas.core.frame.DataFrame'>\n",
      "RangeIndex: 2448 entries, 0 to 2447\n",
      "Columns: 385 entries, Unnamed: 0 to zucchini\n",
      "dtypes: int64(384), object(1)\n",
      "memory usage: 7.2+ MB\n"
     ]
    }
   ],
   "source": [
    "df.info()"
   ]
  },
  {
   "cell_type": "markdown",
   "id": "58b5d634",
   "metadata": {},
   "source": [
    "## Exercise - learning about cuisines\n",
    "\n",
    "Now the work starts to become more interesting. Let's discover the distribution of data, per cuisine\n",
    "\n",
    "1. Plot the data as bars by calling barh():"
   ]
  },
  {
   "cell_type": "code",
   "execution_count": 7,
   "id": "b725744a",
   "metadata": {},
   "outputs": [
    {
     "data": {
      "text/plain": [
       "<Axes: ylabel='cuisine'>"
      ]
     },
     "execution_count": 7,
     "metadata": {},
     "output_type": "execute_result"
    },
    {
     "data": {
      "image/png": "[encoded data removed]",
      "text/plain": [
       "<Figure size 640x480 with 1 Axes>"
      ]
     },
     "metadata": {},
     "output_type": "display_data"
    }
   ],
   "source": [
    "df.cuisine.value_counts().plot.barh()"
   ]
  },
  {
   "cell_type": "markdown",
   "id": "00166db7",
   "metadata": {},
   "source": [
    "There are a finite number of cuisines, but the distribution of data is uneven. You can fix that! Before doing so, explore a little more.\n",
    "\n",
    "2. Find out how much data is available per cuisine and print it out:"
   ]
  },
  {
   "cell_type": "code",
   "execution_count": 8,
   "id": "4bf402a6",
   "metadata": {},
   "outputs": [
    {
     "name": "stdout",
     "output_type": "stream",
     "text": [
      "thai df: (289, 385)\n",
      "japanese df: (320, 385)\n",
      "chinese df: (442, 385)\n",
      "indian df: (598, 385)\n",
      "korean df: (799, 385)\n"
     ]
    }
   ],
   "source": [
    "thai_df = df[(df.cuisine == \"thai\")]\n",
    "japanese_df = df[(df.cuisine == \"japanese\")]\n",
    "chinese_df = df[(df.cuisine == \"chinese\")]\n",
    "indian_df = df[(df.cuisine == \"indian\")]\n",
    "korean_df = df[(df.cuisine == \"korean\")]\n",
    "\n",
    "print(f'thai df: {thai_df.shape}')\n",
    "print(f'japanese df: {japanese_df.shape}')\n",
    "print(f'chinese df: {chinese_df.shape}')\n",
    "print(f'indian df: {indian_df.shape}')\n",
    "print(f'korean df: {korean_df.shape}')"
   ]
  },
  {
   "cell_type": "markdown",
   "id": "a756baab",
   "metadata": {},
   "source": [
    "## Discovering ingredients\n",
    "\n",
    "Now you can dig deeper into the data and learn what are the typical ingredients per cuisine. You should clean out recurrent data that creates confusion between cuisines, so let's learn about this problem.\n",
    "\n",
    "1. Create a function create_ingredient() in Python to create an ingredient dataframe. This function will start by dropping an unhelpful column and sort through ingredients by their count:"
   ]
  },
  {
   "cell_type": "code",
   "execution_count": 9,
   "id": "3c03538a",
   "metadata": {},
   "outputs": [],
   "source": [
    "def create_ingredient_df(df):\n",
    "    ingredient_df = df.T.drop(['cuisine','Unnamed: 0']).sum(axis=1).to_frame('value')\n",
    "    ingredient_df = ingredient_df[(ingredient_df.T != 0).any()]\n",
    "    ingredient_df = ingredient_df.sort_values(by='value', ascending=False,\n",
    "    inplace=False)\n",
    "    return ingredient_df"
   ]
  },
  {
   "cell_type": "markdown",
   "id": "80ddaad4",
   "metadata": {},
   "source": [
    "Now you can use that function to get an idea of top ten most popular ingredients by cuisine.\n",
    "\n",
    "2. Call create_ingredient() and plot it calling barh():"
   ]
  },
  {
   "cell_type": "code",
   "execution_count": 10,
   "id": "df0f3776",
   "metadata": {},
   "outputs": [
    {
     "data": {
      "text/plain": [
       "<Axes: >"
      ]
     },
     "execution_count": 10,
     "metadata": {},
     "output_type": "execute_result"
    },
    {
     "data": {
      "image/png": "[encoded data removed]",
      "text/plain": [
       "<Figure size 640x480 with 1 Axes>"
      ]
     },
     "metadata": {},
     "output_type": "display_data"
    }
   ],
   "source": [
    "thai_ingredient_df = create_ingredient_df(thai_df)\n",
    "thai_ingredient_df.head(10).plot.barh()"
   ]
  },
  {
   "cell_type": "markdown",
   "id": "3d28e547",
   "metadata": {},
   "source": [
    "3. Do the same for the japanese data:"
   ]
  },
  {
   "cell_type": "code",
   "execution_count": 11,
   "id": "595657f4",
   "metadata": {},
   "outputs": [
    {
     "data": {
      "text/plain": [
       "<Axes: >"
      ]
     },
     "execution_count": 11,
     "metadata": {},
     "output_type": "execute_result"
    },
    {
     "data": {
      "image/png": "[encoded data removed]",
      "text/plain": [
       "<Figure size 640x480 with 1 Axes>"
      ]
     },
     "metadata": {},
     "output_type": "display_data"
    }
   ],
   "source": [
    "japanese_ingredient_df = create_ingredient_df(japanese_df)\n",
    "japanese_ingredient_df.head(10).plot.barh()"
   ]
  },
  {
   "cell_type": "markdown",
   "id": "3bb04ef4",
   "metadata": {},
   "source": [
    "4. Now for the chinese ingredients:"
   ]
  },
  {
   "cell_type": "code",
   "execution_count": 12,
   "id": "f758e7a2",
   "metadata": {},
   "outputs": [
    {
     "data": {
      "text/plain": [
       "<Axes: >"
      ]
     },
     "execution_count": 12,
     "metadata": {},
     "output_type": "execute_result"
    },
    {
     "data": {
      "image/png": "[encoded data removed]",
      "text/plain": [
       "<Figure size 640x480 with 1 Axes>"
      ]
     },
     "metadata": {},
     "output_type": "display_data"
    }
   ],
   "source": [
    "chinese_ingredient_df = create_ingredient_df(chinese_df)\n",
    "chinese_ingredient_df.head(10).plot.barh()"
   ]
  },
  {
   "cell_type": "markdown",
   "id": "798c3513",
   "metadata": {},
   "source": [
    "5. Plot the indian ingredients:"
   ]
  },
  {
   "cell_type": "code",
   "execution_count": 13,
   "id": "7de007ef",
   "metadata": {},
   "outputs": [
    {
     "data": {
      "text/plain": [
       "<Axes: >"
      ]
     },
     "execution_count": 13,
     "metadata": {},
     "output_type": "execute_result"
    },
    {
     "data": {
      "image/png": "[encoded data removed]",
      "text/plain": [
       "<Figure size 640x480 with 1 Axes>"
      ]
     },
     "metadata": {},
     "output_type": "display_data"
    }
   ],
   "source": [
    "indian_ingredient_df = create_ingredient_df(indian_df)\n",
    "indian_ingredient_df.head(10).plot.barh()"
   ]
  },
  {
   "cell_type": "markdown",
   "id": "790503e2",
   "metadata": {},
   "source": [
    "6. Finally, plot the korean ingredients:"
   ]
  },
  {
   "cell_type": "code",
   "execution_count": 14,
   "id": "8eb7aad1",
   "metadata": {},
   "outputs": [
    {
     "data": {
      "text/plain": [
       "<Axes: >"
      ]
     },
     "execution_count": 14,
     "metadata": {},
     "output_type": "execute_result"
    },
    {
     "data": {
      "image/png": "[encoded data removed]",
      "text/plain": [
       "<Figure size 640x480 with 1 Axes>"
      ]
     },
     "metadata": {},
     "output_type": "display_data"
    }
   ],
   "source": [
    "korean_ingredient_df = create_ingredient_df(korean_df)\n",
    "korean_ingredient_df.head(10).plot.barh()"
   ]
  },
  {
   "cell_type": "markdown",
   "id": "e4bb4c9b",
   "metadata": {},
   "source": [
    "7. Now, drop the most common ingredients that create confusion between distinct cuisines, by calling drop():\n",
    "\n",
    "Everyone loves rice, garlic and ginger!"
   ]
  },
  {
   "cell_type": "code",
   "execution_count": 15,
   "id": "2ed52fb7",
   "metadata": {},
   "outputs": [
    {
     "data": {
      "text/html": [
       "<div>\n",
       "<style scoped>\n",
       "    .dataframe tbody tr th:only-of-type {\n",
       "        vertical-align: middle;\n",
       "    }\n",
       "\n",
       "    .dataframe tbody tr th {\n",
       "        vertical-align: top;\n",
       "    }\n",
       "\n",
       "    .dataframe thead th {\n",
       "        text-align: right;\n",
       "    }\n",
       "</style>\n",
       "<table border=\"1\" class=\"dataframe\">\n",
       "  <thead>\n",
       "    <tr style=\"text-align: right;\">\n",
       "      <th></th>\n",
       "      <th>almond</th>\n",
       "      <th>angelica</th>\n",
       "      <th>anise</th>\n",
       "      <th>anise_seed</th>\n",
       "      <th>apple</th>\n",
       "      <th>apple_brandy</th>\n",
       "      <th>apricot</th>\n",
       "      <th>armagnac</th>\n",
       "      <th>artemisia</th>\n",
       "      <th>artichoke</th>\n",
       "      <th>...</th>\n",
       "      <th>whiskey</th>\n",
       "      <th>white_bread</th>\n",
       "      <th>white_wine</th>\n",
       "      <th>whole_grain_wheat_flour</th>\n",
       "      <th>wine</th>\n",
       "      <th>wood</th>\n",
       "      <th>yam</th>\n",
       "      <th>yeast</th>\n",
       "      <th>yogurt</th>\n",
       "      <th>zucchini</th>\n",
       "    </tr>\n",
       "  </thead>\n",
       "  <tbody>\n",
       "    <tr>\n",
       "      <th>0</th>\n",
       "      <td>0</td>\n",
       "      <td>0</td>\n",
       "      <td>0</td>\n",
       "      <td>0</td>\n",
       "      <td>0</td>\n",
       "      <td>0</td>\n",
       "      <td>0</td>\n",
       "      <td>0</td>\n",
       "      <td>0</td>\n",
       "      <td>0</td>\n",
       "      <td>...</td>\n",
       "      <td>0</td>\n",
       "      <td>0</td>\n",
       "      <td>0</td>\n",
       "      <td>0</td>\n",
       "      <td>0</td>\n",
       "      <td>0</td>\n",
       "      <td>0</td>\n",
       "      <td>0</td>\n",
       "      <td>0</td>\n",
       "      <td>0</td>\n",
       "    </tr>\n",
       "    <tr>\n",
       "      <th>1</th>\n",
       "      <td>1</td>\n",
       "      <td>0</td>\n",
       "      <td>0</td>\n",
       "      <td>0</td>\n",
       "      <td>0</td>\n",
       "      <td>0</td>\n",
       "      <td>0</td>\n",
       "      <td>0</td>\n",
       "      <td>0</td>\n",
       "      <td>0</td>\n",
       "      <td>...</td>\n",
       "      <td>0</td>\n",
       "      <td>0</td>\n",
       "      <td>0</td>\n",
       "      <td>0</td>\n",
       "      <td>0</td>\n",
       "      <td>0</td>\n",
       "      <td>0</td>\n",
       "      <td>0</td>\n",
       "      <td>0</td>\n",
       "      <td>0</td>\n",
       "    </tr>\n",
       "    <tr>\n",
       "      <th>2</th>\n",
       "      <td>0</td>\n",
       "      <td>0</td>\n",
       "      <td>0</td>\n",
       "      <td>0</td>\n",
       "      <td>0</td>\n",
       "      <td>0</td>\n",
       "      <td>0</td>\n",
       "      <td>0</td>\n",
       "      <td>0</td>\n",
       "      <td>0</td>\n",
       "      <td>...</td>\n",
       "      <td>0</td>\n",
       "      <td>0</td>\n",
       "      <td>0</td>\n",
       "      <td>0</td>\n",
       "      <td>0</td>\n",
       "      <td>0</td>\n",
       "      <td>0</td>\n",
       "      <td>0</td>\n",
       "      <td>0</td>\n",
       "      <td>0</td>\n",
       "    </tr>\n",
       "    <tr>\n",
       "      <th>3</th>\n",
       "      <td>0</td>\n",
       "      <td>0</td>\n",
       "      <td>0</td>\n",
       "      <td>0</td>\n",
       "      <td>0</td>\n",
       "      <td>0</td>\n",
       "      <td>0</td>\n",
       "      <td>0</td>\n",
       "      <td>0</td>\n",
       "      <td>0</td>\n",
       "      <td>...</td>\n",
       "      <td>0</td>\n",
       "      <td>0</td>\n",
       "      <td>0</td>\n",
       "      <td>0</td>\n",
       "      <td>0</td>\n",
       "      <td>0</td>\n",
       "      <td>0</td>\n",
       "      <td>0</td>\n",
       "      <td>0</td>\n",
       "      <td>0</td>\n",
       "    </tr>\n",
       "    <tr>\n",
       "      <th>4</th>\n",
       "      <td>0</td>\n",
       "      <td>0</td>\n",
       "      <td>0</td>\n",
       "      <td>0</td>\n",
       "      <td>0</td>\n",
       "      <td>0</td>\n",
       "      <td>0</td>\n",
       "      <td>0</td>\n",
       "      <td>0</td>\n",
       "      <td>0</td>\n",
       "      <td>...</td>\n",
       "      <td>0</td>\n",
       "      <td>0</td>\n",
       "      <td>0</td>\n",
       "      <td>0</td>\n",
       "      <td>0</td>\n",
       "      <td>0</td>\n",
       "      <td>0</td>\n",
       "      <td>0</td>\n",
       "      <td>1</td>\n",
       "      <td>0</td>\n",
       "    </tr>\n",
       "  </tbody>\n",
       "</table>\n",
       "<p>5 rows × 380 columns</p>\n",
       "</div>"
      ],
      "text/plain": [
       "   almond  angelica  anise  anise_seed  apple  apple_brandy  apricot  \\\n",
       "0       0         0      0           0      0             0        0   \n",
       "1       1         0      0           0      0             0        0   \n",
       "2       0         0      0           0      0             0        0   \n",
       "3       0         0      0           0      0             0        0   \n",
       "4       0         0      0           0      0             0        0   \n",
       "\n",
       "   armagnac  artemisia  artichoke  ...  whiskey  white_bread  white_wine  \\\n",
       "0         0          0          0  ...        0            0           0   \n",
       "1         0          0          0  ...        0            0           0   \n",
       "2         0          0          0  ...        0            0           0   \n",
       "3         0          0          0  ...        0            0           0   \n",
       "4         0          0          0  ...        0            0           0   \n",
       "\n",
       "   whole_grain_wheat_flour  wine  wood  yam  yeast  yogurt  zucchini  \n",
       "0                        0     0     0    0      0       0         0  \n",
       "1                        0     0     0    0      0       0         0  \n",
       "2                        0     0     0    0      0       0         0  \n",
       "3                        0     0     0    0      0       0         0  \n",
       "4                        0     0     0    0      0       1         0  \n",
       "\n",
       "[5 rows x 380 columns]"
      ]
     },
     "execution_count": 15,
     "metadata": {},
     "output_type": "execute_result"
    }
   ],
   "source": [
    "feature_df= df.drop(['cuisine','Unnamed: 0','rice','garlic','ginger'], axis=1)\n",
    "labels_df = df.cuisine #.unique()\n",
    "feature_df.head()"
   ]
  },
  {
   "cell_type": "markdown",
   "id": "216cde93",
   "metadata": {},
   "source": [
    "## Balance the dataset\n",
    "Now that you have cleaned the data, use SMOTE - \"Synthetic Minority Over-sampling Technique\" - to balance it.\n",
    "\n",
    "1. Call fit_resample(), this strategy generates new samples by interpolation."
   ]
  },
  {
   "cell_type": "code",
   "execution_count": 17,
   "id": "18252afb",
   "metadata": {},
   "outputs": [],
   "source": [
    "oversample = SMOTE()\n",
    "transformed_feature_df, transformed_label_df = oversample.fit_resample(feature_df, labels_df)"
   ]
  },
  {
   "cell_type": "markdown",
   "id": "09ee535d",
   "metadata": {},
   "source": [
    "By balancing your data, you'll have better results when classifying it. Think about a binary classification. If most of your data is one class, a ML model is going to predict that class more frequently, just because there is more data for it. Balancing the data takes any skewed data and helps remove this imbalance.\n",
    "\n",
    "2. Now you can check the numbers of labels per ingredient:"
   ]
  },
  {
   "cell_type": "code",
   "execution_count": 18,
   "id": "73a49e66",
   "metadata": {},
   "outputs": [
    {
     "name": "stdout",
     "output_type": "stream",
     "text": [
      "new label count: cuisine\n",
      "indian      799\n",
      "thai        799\n",
      "chinese     799\n",
      "japanese    799\n",
      "korean      799\n",
      "Name: count, dtype: int64\n",
      "old label count: cuisine\n",
      "korean      799\n",
      "indian      598\n",
      "chinese     442\n",
      "japanese    320\n",
      "thai        289\n",
      "Name: count, dtype: int64\n"
     ]
    }
   ],
   "source": [
    "print(f'new label count: {transformed_label_df.value_counts()}')\n",
    "print(f'old label count: {df.cuisine.value_counts()}')"
   ]
  },
  {
   "cell_type": "markdown",
   "id": "f0cec91b",
   "metadata": {},
   "source": [
    "The data is nice and clean, balanced, and very delicious!\n",
    "\n",
    "3. The last step is to save your balanced data, including labels and features, into a new dataframe that can be exported into a file:"
   ]
  },
  {
   "cell_type": "code",
   "execution_count": 19,
   "id": "a198c8b0",
   "metadata": {},
   "outputs": [],
   "source": [
    "transformed_df = pd.concat([transformed_label_df,transformed_feature_df],axis=1, join='outer')"
   ]
  },
  {
   "cell_type": "markdown",
   "id": "12eb6dc2",
   "metadata": {},
   "source": [
    "4. You can take one more look at the data using transformed_df.head() and transformed_df.info(). Save a copy of this data for use in future lessons:"
   ]
  },
  {
   "cell_type": "code",
   "execution_count": 20,
   "id": "5d1a1ec0",
   "metadata": {},
   "outputs": [
    {
     "name": "stdout",
     "output_type": "stream",
     "text": [
      "<class 'pandas.core.frame.DataFrame'>\n",
      "RangeIndex: 3995 entries, 0 to 3994\n",
      "Columns: 381 entries, cuisine to zucchini\n",
      "dtypes: int64(380), object(1)\n",
      "memory usage: 11.6+ MB\n"
     ]
    }
   ],
   "source": [
    "transformed_df.head()\n",
    "transformed_df.info()\n",
    "transformed_df.to_csv(\"../../data/cleaned_cuisines.csv\")"
   ]
  },
  {
   "cell_type": "markdown",
   "id": "16b4cf52",
   "metadata": {},
   "source": [
    "This fresh CSV can now be found in the root data folder."
   ]
  }
 ],
 "metadata": {
  "jupytext": {
   "cell_metadata_filter": "-all",
   "main_language": "python",
   "notebook_metadata_filter": "-all"
  },
  "kernelspec": {
   "display_name": "datascience",
   "language": "python",
   "name": "python3"
  },
  "language_info": {
   "codemirror_mode": {
    "name": "ipython",
    "version": 3
   },
   "file_extension": ".py",
   "mimetype": "text/x-python",
   "name": "python",
   "nbconvert_exporter": "python",
   "pygments_lexer": "ipython3",
   "version": "3.13.5"
  }
 },
 "nbformat": 4,
 "nbformat_minor": 5
}
